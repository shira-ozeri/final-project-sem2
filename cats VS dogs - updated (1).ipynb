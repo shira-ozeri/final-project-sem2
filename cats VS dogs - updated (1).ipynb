{
 "cells": [
  {
   "attachments": {},
   "cell_type": "markdown",
   "metadata": {},
   "source": [
    "#                                             🐱cats VS dogs🐶\n",
    "\n",
    "\n",
    "## The data set of dogs against cats is a data set that includes the classification of images as containing a dog or cat.\n",
    "\n",
    "#### The train folder contains 25,000 pictures of dogs and cats.\n",
    "#### The test folder contains 12,500 images.\n",
    "#### Each image is a different size, we will set the images to a height of 50 pixels and a width of 50 pixels, a total of  2500 pixels."
   ]
  },
  {
   "cell_type": "code",
   "execution_count": null,
   "metadata": {},
   "outputs": [],
   "source": [
    "import numpy as np\n",
    "import pandas as pd\n",
    "import matplotlib.pyplot as plt\n",
    "from sklearn.model_selection import train_test_split\n",
    "from sklearn.decomposition import PCA\n",
    "import warnings\n",
    "warnings.filterwarnings(action='ignore', category=UserWarning)\n",
    "from sklearn.model_selection import cross_val_score # didnt use\n",
    "from sklearn.model_selection import cross_val_predict  # didnt use\n",
    "from sklearn.metrics import confusion_matrix\n",
    "from sklearn.metrics import precision_score, recall_score  # didnt use\n",
    "from sklearn.metrics import f1_score  # didnt use\n",
    "from sklearn.metrics import accuracy_score\n",
    "from sklearn import metrics\n",
    "from sklearn.neighbors import KNeighborsClassifier\n",
    "#from xgboost import XGBClassifier\n",
    "import os\n",
    "import cv2\n",
    "import time\n",
    "from tqdm import tqdm\n",
    "from random import shuffle\n",
    "import random\n",
    "\n",
    "#!pip3 install tqdm"
   ]
  },
  {
   "cell_type": "code",
   "execution_count": 2,
   "metadata": {},
   "outputs": [],
   "source": [
    "IMG_SIZE = 50"
   ]
  },
  {
   "cell_type": "code",
   "execution_count": 3,
   "metadata": {},
   "outputs": [],
   "source": [
    "DIR = r'C:\\Users\\shiratayri\\OneDrive\\dogs-vs-cats\\train'"
   ]
  },
  {
   "cell_type": "markdown",
   "metadata": {},
   "source": [
    "## Turn the data into a data frame represented by pixels:"
   ]
  },
  {
   "cell_type": "markdown",
   "metadata": {},
   "source": [
    "We will mark on each picture whether it is a dog or a cat:\n"
   ]
  },
  {
   "cell_type": "code",
   "execution_count": 5,
   "metadata": {},
   "outputs": [],
   "source": [
    "def label_img(img):\n",
    "    word_label = img.split('.')[-3]\n",
    "    if word_label == 'cat': return 0\n",
    "    else: return 1"
   ]
  },
  {
   "cell_type": "markdown",
   "metadata": {},
   "source": [
    "We will translate each image into pixels and add it to the list:"
   ]
  },
  {
   "cell_type": "code",
   "execution_count": 6,
   "metadata": {},
   "outputs": [],
   "source": [
    "def create_data():\n",
    "    data = []\n",
    "    for img in tqdm(os.listdir(DIR)):\n",
    "        label = label_img(img)\n",
    "        path = os.path.join(DIR, img)\n",
    "        img = cv2.resize(cv2.imread(path, cv2.IMREAD_GRAYSCALE), (IMG_SIZE, IMG_SIZE))\n",
    "        data.append((np.array(img), label))\n",
    "    shuffle(data)\n",
    "    return data"
   ]
  },
  {
   "cell_type": "markdown",
   "metadata": {},
   "source": [
    "We will create a list to which we will insert the images:"
   ]
  },
  {
   "cell_type": "code",
   "execution_count": 7,
   "metadata": {
    "scrolled": true
   },
   "outputs": [
    {
     "name": "stderr",
     "output_type": "stream",
     "text": [
      "100%|███████████████████████████████████████████████████████████████████████████| 25000/25000 [01:25<00:00, 291.49it/s]"
     ]
    },
    {
     "name": "stdout",
     "output_type": "stream",
     "text": [
      "runtime: 86.83297491073608 seconds\n"
     ]
    },
    {
     "name": "stderr",
     "output_type": "stream",
     "text": [
      "\n"
     ]
    }
   ],
   "source": [
    "start = time.time()\n",
    "data = create_data()\n",
    "end = time.time()\n",
    "print('runtime:',end - start, 'seconds')"
   ]
  },
  {
   "cell_type": "markdown",
   "metadata": {},
   "source": [
    "We will create a data frame from the list:"
   ]
  },
  {
   "cell_type": "code",
   "execution_count": 9,
   "metadata": {},
   "outputs": [],
   "source": [
    "df = pd.DataFrame(data=np.array([x[0] for x in data]).reshape(25000, IMG_SIZE*IMG_SIZE))\n",
    "df['label'] = [x[1] for x in data]"
   ]
  },
  {
   "cell_type": "code",
   "execution_count": 10,
   "metadata": {},
   "outputs": [
    {
     "data": {
      "text/html": [
       "<div>\n",
       "<style scoped>\n",
       "    .dataframe tbody tr th:only-of-type {\n",
       "        vertical-align: middle;\n",
       "    }\n",
       "\n",
       "    .dataframe tbody tr th {\n",
       "        vertical-align: top;\n",
       "    }\n",
       "\n",
       "    .dataframe thead th {\n",
       "        text-align: right;\n",
       "    }\n",
       "</style>\n",
       "<table border=\"1\" class=\"dataframe\">\n",
       "  <thead>\n",
       "    <tr style=\"text-align: right;\">\n",
       "      <th></th>\n",
       "      <th>0</th>\n",
       "      <th>1</th>\n",
       "      <th>2</th>\n",
       "      <th>3</th>\n",
       "      <th>4</th>\n",
       "      <th>5</th>\n",
       "      <th>6</th>\n",
       "      <th>7</th>\n",
       "      <th>8</th>\n",
       "      <th>9</th>\n",
       "      <th>...</th>\n",
       "      <th>2491</th>\n",
       "      <th>2492</th>\n",
       "      <th>2493</th>\n",
       "      <th>2494</th>\n",
       "      <th>2495</th>\n",
       "      <th>2496</th>\n",
       "      <th>2497</th>\n",
       "      <th>2498</th>\n",
       "      <th>2499</th>\n",
       "      <th>label</th>\n",
       "    </tr>\n",
       "  </thead>\n",
       "  <tbody>\n",
       "    <tr>\n",
       "      <th>0</th>\n",
       "      <td>255</td>\n",
       "      <td>255</td>\n",
       "      <td>255</td>\n",
       "      <td>255</td>\n",
       "      <td>255</td>\n",
       "      <td>255</td>\n",
       "      <td>255</td>\n",
       "      <td>255</td>\n",
       "      <td>255</td>\n",
       "      <td>255</td>\n",
       "      <td>...</td>\n",
       "      <td>254</td>\n",
       "      <td>254</td>\n",
       "      <td>254</td>\n",
       "      <td>254</td>\n",
       "      <td>255</td>\n",
       "      <td>254</td>\n",
       "      <td>254</td>\n",
       "      <td>254</td>\n",
       "      <td>254</td>\n",
       "      <td>1</td>\n",
       "    </tr>\n",
       "    <tr>\n",
       "      <th>1</th>\n",
       "      <td>83</td>\n",
       "      <td>85</td>\n",
       "      <td>94</td>\n",
       "      <td>97</td>\n",
       "      <td>99</td>\n",
       "      <td>102</td>\n",
       "      <td>104</td>\n",
       "      <td>100</td>\n",
       "      <td>104</td>\n",
       "      <td>101</td>\n",
       "      <td>...</td>\n",
       "      <td>68</td>\n",
       "      <td>66</td>\n",
       "      <td>56</td>\n",
       "      <td>83</td>\n",
       "      <td>115</td>\n",
       "      <td>107</td>\n",
       "      <td>104</td>\n",
       "      <td>117</td>\n",
       "      <td>115</td>\n",
       "      <td>1</td>\n",
       "    </tr>\n",
       "    <tr>\n",
       "      <th>2</th>\n",
       "      <td>251</td>\n",
       "      <td>251</td>\n",
       "      <td>251</td>\n",
       "      <td>250</td>\n",
       "      <td>249</td>\n",
       "      <td>233</td>\n",
       "      <td>110</td>\n",
       "      <td>199</td>\n",
       "      <td>251</td>\n",
       "      <td>251</td>\n",
       "      <td>...</td>\n",
       "      <td>122</td>\n",
       "      <td>136</td>\n",
       "      <td>125</td>\n",
       "      <td>141</td>\n",
       "      <td>137</td>\n",
       "      <td>148</td>\n",
       "      <td>148</td>\n",
       "      <td>160</td>\n",
       "      <td>197</td>\n",
       "      <td>0</td>\n",
       "    </tr>\n",
       "    <tr>\n",
       "      <th>3</th>\n",
       "      <td>254</td>\n",
       "      <td>53</td>\n",
       "      <td>156</td>\n",
       "      <td>249</td>\n",
       "      <td>249</td>\n",
       "      <td>253</td>\n",
       "      <td>245</td>\n",
       "      <td>77</td>\n",
       "      <td>52</td>\n",
       "      <td>169</td>\n",
       "      <td>...</td>\n",
       "      <td>146</td>\n",
       "      <td>150</td>\n",
       "      <td>157</td>\n",
       "      <td>160</td>\n",
       "      <td>159</td>\n",
       "      <td>165</td>\n",
       "      <td>167</td>\n",
       "      <td>177</td>\n",
       "      <td>254</td>\n",
       "      <td>1</td>\n",
       "    </tr>\n",
       "    <tr>\n",
       "      <th>4</th>\n",
       "      <td>107</td>\n",
       "      <td>99</td>\n",
       "      <td>104</td>\n",
       "      <td>111</td>\n",
       "      <td>103</td>\n",
       "      <td>111</td>\n",
       "      <td>109</td>\n",
       "      <td>108</td>\n",
       "      <td>111</td>\n",
       "      <td>110</td>\n",
       "      <td>...</td>\n",
       "      <td>143</td>\n",
       "      <td>145</td>\n",
       "      <td>140</td>\n",
       "      <td>160</td>\n",
       "      <td>173</td>\n",
       "      <td>172</td>\n",
       "      <td>170</td>\n",
       "      <td>170</td>\n",
       "      <td>165</td>\n",
       "      <td>0</td>\n",
       "    </tr>\n",
       "    <tr>\n",
       "      <th>...</th>\n",
       "      <td>...</td>\n",
       "      <td>...</td>\n",
       "      <td>...</td>\n",
       "      <td>...</td>\n",
       "      <td>...</td>\n",
       "      <td>...</td>\n",
       "      <td>...</td>\n",
       "      <td>...</td>\n",
       "      <td>...</td>\n",
       "      <td>...</td>\n",
       "      <td>...</td>\n",
       "      <td>...</td>\n",
       "      <td>...</td>\n",
       "      <td>...</td>\n",
       "      <td>...</td>\n",
       "      <td>...</td>\n",
       "      <td>...</td>\n",
       "      <td>...</td>\n",
       "      <td>...</td>\n",
       "      <td>...</td>\n",
       "      <td>...</td>\n",
       "    </tr>\n",
       "    <tr>\n",
       "      <th>24995</th>\n",
       "      <td>14</td>\n",
       "      <td>19</td>\n",
       "      <td>16</td>\n",
       "      <td>15</td>\n",
       "      <td>14</td>\n",
       "      <td>15</td>\n",
       "      <td>18</td>\n",
       "      <td>15</td>\n",
       "      <td>15</td>\n",
       "      <td>15</td>\n",
       "      <td>...</td>\n",
       "      <td>63</td>\n",
       "      <td>74</td>\n",
       "      <td>52</td>\n",
       "      <td>49</td>\n",
       "      <td>54</td>\n",
       "      <td>70</td>\n",
       "      <td>62</td>\n",
       "      <td>57</td>\n",
       "      <td>74</td>\n",
       "      <td>1</td>\n",
       "    </tr>\n",
       "    <tr>\n",
       "      <th>24996</th>\n",
       "      <td>71</td>\n",
       "      <td>75</td>\n",
       "      <td>78</td>\n",
       "      <td>71</td>\n",
       "      <td>80</td>\n",
       "      <td>77</td>\n",
       "      <td>76</td>\n",
       "      <td>79</td>\n",
       "      <td>82</td>\n",
       "      <td>84</td>\n",
       "      <td>...</td>\n",
       "      <td>42</td>\n",
       "      <td>63</td>\n",
       "      <td>72</td>\n",
       "      <td>95</td>\n",
       "      <td>91</td>\n",
       "      <td>92</td>\n",
       "      <td>52</td>\n",
       "      <td>49</td>\n",
       "      <td>43</td>\n",
       "      <td>0</td>\n",
       "    </tr>\n",
       "    <tr>\n",
       "      <th>24997</th>\n",
       "      <td>127</td>\n",
       "      <td>124</td>\n",
       "      <td>124</td>\n",
       "      <td>124</td>\n",
       "      <td>127</td>\n",
       "      <td>130</td>\n",
       "      <td>139</td>\n",
       "      <td>142</td>\n",
       "      <td>151</td>\n",
       "      <td>157</td>\n",
       "      <td>...</td>\n",
       "      <td>248</td>\n",
       "      <td>185</td>\n",
       "      <td>223</td>\n",
       "      <td>240</td>\n",
       "      <td>243</td>\n",
       "      <td>235</td>\n",
       "      <td>231</td>\n",
       "      <td>232</td>\n",
       "      <td>236</td>\n",
       "      <td>0</td>\n",
       "    </tr>\n",
       "    <tr>\n",
       "      <th>24998</th>\n",
       "      <td>179</td>\n",
       "      <td>179</td>\n",
       "      <td>179</td>\n",
       "      <td>181</td>\n",
       "      <td>181</td>\n",
       "      <td>181</td>\n",
       "      <td>181</td>\n",
       "      <td>181</td>\n",
       "      <td>181</td>\n",
       "      <td>165</td>\n",
       "      <td>...</td>\n",
       "      <td>85</td>\n",
       "      <td>58</td>\n",
       "      <td>132</td>\n",
       "      <td>138</td>\n",
       "      <td>136</td>\n",
       "      <td>140</td>\n",
       "      <td>88</td>\n",
       "      <td>37</td>\n",
       "      <td>52</td>\n",
       "      <td>0</td>\n",
       "    </tr>\n",
       "    <tr>\n",
       "      <th>24999</th>\n",
       "      <td>163</td>\n",
       "      <td>168</td>\n",
       "      <td>168</td>\n",
       "      <td>179</td>\n",
       "      <td>171</td>\n",
       "      <td>172</td>\n",
       "      <td>173</td>\n",
       "      <td>148</td>\n",
       "      <td>109</td>\n",
       "      <td>164</td>\n",
       "      <td>...</td>\n",
       "      <td>191</td>\n",
       "      <td>194</td>\n",
       "      <td>175</td>\n",
       "      <td>169</td>\n",
       "      <td>145</td>\n",
       "      <td>160</td>\n",
       "      <td>143</td>\n",
       "      <td>122</td>\n",
       "      <td>124</td>\n",
       "      <td>1</td>\n",
       "    </tr>\n",
       "  </tbody>\n",
       "</table>\n",
       "<p>25000 rows × 2501 columns</p>\n",
       "</div>"
      ],
      "text/plain": [
       "         0    1    2    3    4    5    6    7    8    9  ...  2491  2492  \\\n",
       "0      255  255  255  255  255  255  255  255  255  255  ...   254   254   \n",
       "1       83   85   94   97   99  102  104  100  104  101  ...    68    66   \n",
       "2      251  251  251  250  249  233  110  199  251  251  ...   122   136   \n",
       "3      254   53  156  249  249  253  245   77   52  169  ...   146   150   \n",
       "4      107   99  104  111  103  111  109  108  111  110  ...   143   145   \n",
       "...    ...  ...  ...  ...  ...  ...  ...  ...  ...  ...  ...   ...   ...   \n",
       "24995   14   19   16   15   14   15   18   15   15   15  ...    63    74   \n",
       "24996   71   75   78   71   80   77   76   79   82   84  ...    42    63   \n",
       "24997  127  124  124  124  127  130  139  142  151  157  ...   248   185   \n",
       "24998  179  179  179  181  181  181  181  181  181  165  ...    85    58   \n",
       "24999  163  168  168  179  171  172  173  148  109  164  ...   191   194   \n",
       "\n",
       "       2493  2494  2495  2496  2497  2498  2499  label  \n",
       "0       254   254   255   254   254   254   254      1  \n",
       "1        56    83   115   107   104   117   115      1  \n",
       "2       125   141   137   148   148   160   197      0  \n",
       "3       157   160   159   165   167   177   254      1  \n",
       "4       140   160   173   172   170   170   165      0  \n",
       "...     ...   ...   ...   ...   ...   ...   ...    ...  \n",
       "24995    52    49    54    70    62    57    74      1  \n",
       "24996    72    95    91    92    52    49    43      0  \n",
       "24997   223   240   243   235   231   232   236      0  \n",
       "24998   132   138   136   140    88    37    52      0  \n",
       "24999   175   169   145   160   143   122   124      1  \n",
       "\n",
       "[25000 rows x 2501 columns]"
      ]
     },
     "execution_count": 10,
     "metadata": {},
     "output_type": "execute_result"
    }
   ],
   "source": [
    "df"
   ]
  },
  {
   "cell_type": "markdown",
   "metadata": {},
   "source": [
    "## Lets split the data\n"
   ]
  },
  {
   "cell_type": "code",
   "execution_count": 12,
   "metadata": {},
   "outputs": [
    {
     "name": "stdout",
     "output_type": "stream",
     "text": [
      "(14062, 2500) (4688, 2500)\n"
     ]
    }
   ],
   "source": [
    "from sklearn.model_selection import train_test_split\n",
    "from sklearn.preprocessing import StandardScaler\n",
    "scaler = StandardScaler()\n",
    "x = df.drop(labels = ['label'], axis=1)\n",
    "# StandardScaler on the train\n",
    "a = scaler.fit_transform(x) \n",
    "x = pd.DataFrame(a, columns=x.columns)\n",
    "y = df.label\n",
    "# We will divide the data frame into training and test and the training will be divided into training and test and we will deal with them\n",
    "X, X_Test, Y, Y_Test = train_test_split(x, y,random_state=2) \n",
    "x_train, x_test, y_train, y_test = train_test_split(X, Y,random_state=2) \n",
    "print (x_train.shape , x_test.shape)"
   ]
  },
  {
   "cell_type": "markdown",
   "metadata": {},
   "source": [
    "# PCA\n",
    "###  What is it?\n",
    "Principal component analysis (PCA) simplifies the complexity in high-dimensional data while retaining trends and patterns. It does this by transforming the data into fewer dimensions, which act as summaries of features.\n",
    "\n",
    "We will illustrate this with an extreme example:\n",
    "\n",
    "##### before PCA-"
   ]
  },
  {
   "cell_type": "markdown",
   "metadata": {},
   "source": [
    "plt.imshow(x_train.to_numpy()[80].reshape(IMG_SIZE,IMG_SIZE) , cmap=\"gist_yarg\")\n"
   ]
  },
  {
   "cell_type": "code",
   "execution_count": 31,
   "metadata": {},
   "outputs": [
    {
     "data": {
      "text/plain": [
       "(14062, 25)"
      ]
     },
     "execution_count": 31,
     "metadata": {},
     "output_type": "execute_result"
    }
   ],
   "source": [
    "pca = PCA(n_components=25)\n",
    "X_reduced = pca.fit_transform(x_train)\n",
    "X_reduced.shape\n",
    "#Extreme download for illustration"
   ]
  },
  {
   "cell_type": "markdown",
   "metadata": {},
   "source": [
    "##### after PCA-"
   ]
  },
  {
   "cell_type": "code",
   "execution_count": 33,
   "metadata": {},
   "outputs": [
    {
     "data": {
      "text/plain": [
       "<matplotlib.image.AxesImage at 0x1ce28e13b50>"
      ]
     },
     "execution_count": 33,
     "metadata": {},
     "output_type": "execute_result"
    },
    {
     "data": {
      "image/png": "[encoded data removed]",
      "text/plain": [
       "<Figure size 432x288 with 1 Axes>"
      ]
     },
     "metadata": {
      "needs_background": "light"
     },
     "output_type": "display_data"
    }
   ],
   "source": [
    "plt.imshow(X_reduced[4].reshape(5,5), cmap=plt.cm.binary)#תמונה לאחר הורדה קיצונית"
   ]
  },
  {
   "cell_type": "markdown",
   "metadata": {},
   "source": [
    "## Let's run PCA on the data"
   ]
  },
  {
   "cell_type": "code",
   "execution_count": 48,
   "metadata": {},
   "outputs": [],
   "source": [
    "from sklearn.decomposition import PCA\n",
    "pca = PCA()\n",
    "pca.fit(x_train)\n",
    "cumsum = np.cumsum(pca.explained_variance_ratio_)\n",
    "d = np.argmax(cumsum >= 0.89) + 1\n",
    "pca = PCA(n_components=0.89)\n",
    "X_FTrain = pca.fit_transform(x_train)\n",
    "X_FTest = pca.transform(x_test)"
   ]
  },
  {
   "cell_type": "markdown",
   "metadata": {},
   "source": [
    "Number of columns after PCA:"
   ]
  },
  {
   "cell_type": "code",
   "execution_count": 50,
   "metadata": {},
   "outputs": [
    {
     "name": "stdout",
     "output_type": "stream",
     "text": [
      "(14062, 242) (4688, 2500)\n"
     ]
    }
   ],
   "source": [
    "print (X_FTrain.shape , x_test.shape)"
   ]
  },
  {
   "cell_type": "markdown",
   "metadata": {},
   "source": [
    "It's less than 10% !"
   ]
  },
  {
   "cell_type": "markdown",
   "metadata": {},
   "source": [
    "# Models:\n",
    "\n",
    "Let's start with a bad model called a 'dummy model'. This model is expected to have a poor percentage of accuracy. This model will be a source of comparison for us with the other models. Our goal is to get a much higher accuracy percentage than the accuracy of the dummy.\n",
    "\n",
    "#### dummy model:"
   ]
  },
  {
   "cell_type": "code",
   "execution_count": 56,
   "metadata": {},
   "outputs": [
    {
     "name": "stdout",
     "output_type": "stream",
     "text": [
      "accuracy: 0.5029863481228669\n"
     ]
    }
   ],
   "source": [
    "from sklearn.dummy import DummyClassifier\n",
    "dummy= DummyClassifier(strategy=\"stratified\")\n",
    "dummy.fit(X_FTrain, y_train)\n",
    "DummyClassifier(strategy='stratified')\n",
    "dummy_predict = dummy.predict(X_FTest)\n",
    "print( \"accuracy:\" ,dummy.score(y_test, dummy_predict))             #dummy_accuracy"
   ]
  },
  {
   "cell_type": "markdown",
   "metadata": {},
   "source": [
    "#### knn:"
   ]
  },
  {
   "cell_type": "code",
   "execution_count": 62,
   "metadata": {},
   "outputs": [
    {
     "data": {
      "image/png": "[encoded data removed]",
      "text/plain": [
       "<Figure size 432x288 with 1 Axes>"
      ]
     },
     "metadata": {
      "needs_background": "light"
     },
     "output_type": "display_data"
    }
   ],
   "source": [
    "listX=[]\n",
    "listY=[]\n",
    "for i in range(3,7):\n",
    "    knn = KNeighborsClassifier(n_neighbors = i)\n",
    "    knn.fit(X_FTrain, y_train)\n",
    "    knn_predict = knn.predict(X_FTest)\n",
    "    listX.append(i)\n",
    "    listY.append(accuracy_score(y_test, knn_predict))\n",
    "    #print(accuracy_score(y_test, knn_predict))\n",
    "plt.plot(listX, listY)\n",
    "plt.xlabel(\"k-nearest neighbors\")\n",
    "plt.ylabel(\"accuracy\")\n",
    "plt.title(\"The level of accuracy depends on the number of neighbors\")\n",
    "plt.show()"
   ]
  },
  {
   "cell_type": "markdown",
   "metadata": {},
   "source": [
    "knn accuracy:"
   ]
  },
  {
   "cell_type": "code",
   "execution_count": 60,
   "metadata": {},
   "outputs": [
    {
     "data": {
      "text/plain": [
       "0.5765784982935154"
      ]
     },
     "execution_count": 60,
     "metadata": {},
     "output_type": "execute_result"
    }
   ],
   "source": [
    "#knn\n",
    "from sklearn.neighbors import KNeighborsClassifier\n",
    "knn = KNeighborsClassifier(n_neighbors=5)\n",
    "knn.fit(X_FTrain, y_train)                  # Training of all columns and training of the prediction column\n",
    "knn_predict = knn.predict(X_FTest)          # predictor (test)\n",
    "knn_accuracy = accuracy_score(y_test, knn_predict)           # Accuracy tester compared to the test prediction column\n",
    "knn_accuracy"
   ]
  },
  {
   "cell_type": "markdown",
   "metadata": {},
   "source": [
    "#### Decision tree:"
   ]
  },
  {
   "cell_type": "code",
   "execution_count": 59,
   "metadata": {},
   "outputs": [
    {
     "name": "stdout",
     "output_type": "stream",
     "text": [
      "accuracy: 0.533703071672355\n"
     ]
    }
   ],
   "source": [
    "from sklearn.tree import DecisionTreeClassifier\n",
    "dtree=DecisionTreeClassifier(random_state=1)\n",
    "dtree.fit(X_FTrain,y_train)                     #training\n",
    "dtree_predict=dtree.predict(X_FTest)\n",
    "print( \"accuracy:\" ,accuracy_score(y_test,dtree.predict(X_FTest)))   #accuracy of testing"
   ]
  },
  {
   "cell_type": "code",
   "execution_count": null,
   "metadata": {},
   "outputs": [],
   "source": [
    "def pred(model):\n",
    "    model.fit(X_FTrain,y_train)\n",
    "    prediction = model.predict(X_FTest)\n",
    "    accuracy_score(y_test, prediction)\n",
    "    print(\"model: \", model)\n",
    "    print(\"Accuracy: \", accuracy_score(y_test, prediction)*100)"
   ]
  },
  {
   "cell_type": "markdown",
   "metadata": {},
   "source": [
    "#### AdaBoost Classifier:"
   ]
  },
  {
   "cell_type": "code",
   "execution_count": 64,
   "metadata": {},
   "outputs": [
    {
     "name": "stdout",
     "output_type": "stream",
     "text": [
      "model:  AdaBoostClassifier()\n",
      "Accuracy:  58.21245733788396\n"
     ]
    }
   ],
   "source": [
    "from sklearn.ensemble import AdaBoostClassifier\n",
    "pred(AdaBoostClassifier())"
   ]
  },
  {
   "cell_type": "code",
   "execution_count": null,
   "metadata": {},
   "outputs": [],
   "source": [
    "from sklearn.ensemble import VotingClassifier\n",
    "from sklearn.svm import LinearSVC\n",
    "from sklearn.pipeline import make_pipeline\n",
    "from sklearn.preprocessing import StandardScaler\n",
    "from sklearn.datasets import make_classification\n",
    "from sklearn.linear_model import LogisticRegression"
   ]
  },
  {
   "cell_type": "markdown",
   "metadata": {},
   "source": [
    "#### Random forest:"
   ]
  },
  {
   "cell_type": "code",
   "execution_count": null,
   "metadata": {},
   "outputs": [],
   "source": [
    "from sklearn.ensemble import RandomForestClassifier#ניראלי לא אשתמש\n",
    "arr = []\n",
    "for i in range(1,21):\n",
    "    ran = RandomForestClassifier(max_depth=i)\n",
    "    ran.fit(X_FTrain, y_train)\n",
    "    ran_predict = ran.predict(X_FTest)\n",
    "    arr.append(accuracy_score(y_test, ran_predict))\n",
    "\n",
    "plt.plot(range(1,21), arr)\n",
    "plt.xticks(np.arange(1,21,1))\n",
    "plt.xlabel(\"Max depth value\")\n",
    "plt.ylabel(\"Score\")\n",
    "plt.show()\n",
    "\n",
    "ran_accuracy = max(arr)\n",
    "print (\"the maximum Random Forest score is: \" + str(ran_accuracy*100) + \"% while max depth=12\")"
   ]
  },
  {
   "cell_type": "markdown",
   "metadata": {},
   "source": [
    "#### Pipeline:"
   ]
  },
  {
   "cell_type": "code",
   "execution_count": 70,
   "metadata": {},
   "outputs": [
    {
     "name": "stdout",
     "output_type": "stream",
     "text": [
      "Pipeline accuracy: 65.52901023890784%\n"
     ]
    }
   ],
   "source": [
    "from sklearn.svm import SVC\n",
    "from sklearn.preprocessing import StandardScaler\n",
    "from sklearn.datasets import make_classification\n",
    "from sklearn.model_selection import train_test_split\n",
    "from sklearn.pipeline import Pipeline\n",
    "pip = Pipeline([('scaler', StandardScaler()), ('svc', SVC())])\n",
    "pip.fit(X_FTrain, y_train)\n",
    "pip_predict = pip.predict(X_FTest)\n",
    "pip_accuracy = accuracy_score(y_test, pip_predict)*100\n",
    "print (\"Pipeline accuracy: \" + str(pip_accuracy) + \"%\")"
   ]
  },
  {
   "cell_type": "markdown",
   "metadata": {},
   "source": [
    "#### Voting:"
   ]
  },
  {
   "cell_type": "code",
   "execution_count": 69,
   "metadata": {},
   "outputs": [
    {
     "name": "stdout",
     "output_type": "stream",
     "text": [
      "Voting accuracy: 59.02303754266212%\n"
     ]
    }
   ],
   "source": [
    "from sklearn.naive_bayes import GaussianNB\n",
    "from sklearn.neighbors import KNeighborsClassifier\n",
    "from sklearn.ensemble import RandomForestClassifier, VotingClassifier\n",
    "from sklearn import tree\n",
    "clf1 = KNeighborsClassifier(n_neighbors=2)\n",
    "clf2 = RandomForestClassifier(n_estimators=50, random_state=1)\n",
    "clf3 = GaussianNB()\n",
    "vot = VotingClassifier(estimators=[('lr', clf1), ('rf', clf2), ('gnb', clf3)], voting='soft')\n",
    "vot.fit(X_FTrain, y_train)\n",
    "vot_predict = vot.predict(X_FTest)\n",
    "vot_accuracy = accuracy_score(y_test, vot_predict)*100\n",
    "print (\"Voting accuracy: \" + str(vot_accuracy) + \"%\")"
   ]
  },
  {
   "cell_type": "markdown",
   "metadata": {},
   "source": [
    "#### Stacking:"
   ]
  },
  {
   "cell_type": "code",
   "execution_count": 68,
   "metadata": {},
   "outputs": [
    {
     "name": "stdout",
     "output_type": "stream",
     "text": [
      "Stacking accuracy: 55.460750853242324%\n"
     ]
    }
   ],
   "source": [
    "from sklearn.ensemble import RandomForestClassifier\n",
    "from sklearn.svm import LinearSVC\n",
    "from sklearn.linear_model import LogisticRegression\n",
    "from sklearn.preprocessing import StandardScaler\n",
    "from sklearn.pipeline import make_pipeline\n",
    "from sklearn.ensemble import StackingClassifier\n",
    "estimators = [('rf', RandomForestClassifier(n_estimators=10, random_state=42)), ('svr', make_pipeline(StandardScaler(), LinearSVC(random_state=42)))]\n",
    "sta = StackingClassifier(estimators = estimators, final_estimator=LogisticRegression())\n",
    "sta.fit(X_FTrain, y_train)\n",
    "sta_predict = sta.predict(X_FTest)\n",
    "sta_accuracy = accuracy_score(y_test, sta_predict)*100\n",
    "print (\"Stacking accuracy: \" + str(sta_accuracy) + \"%\")"
   ]
  },
  {
   "cell_type": "markdown",
   "metadata": {},
   "source": [
    "### We will illustrate the comparison of accuracy between the models:"
   ]
  },
  {
   "cell_type": "code",
   "execution_count": 99,
   "metadata": {},
   "outputs": [
    {
     "data": {
      "image/png": "[encoded data removed]",
      "text/plain": [
       "<Figure size 432x288 with 1 Axes>"
      ]
     },
     "metadata": {
      "needs_background": "light"
     },
     "output_type": "display_data"
    }
   ],
   "source": [
    "fig= plt.figure()\n",
    "axes= fig.add_axes([1,1,1,1])\n",
    "knn= knn_accuracy\n",
    "decisionTree= accuracy_score(y_test,dtree.predict(X_FTest))\n",
    "dummy= 0.5029863481228669\n",
    "AdaBoostClassifier= 0.5821245733788396\n",
    "Pipeline= 0.6552901023890784\n",
    "Voting= 0.5902303754266212\n",
    "Stacking= 0.55460750853242324\n",
    "x= [knn,decisionTree,dummy,AdaBoostClassifier,Pipeline,Voting,Stacking]\n",
    "y= [knn,decisionTree,dummy,AdaBoostClassifier,Pipeline,Voting,Stacking]\n",
    "plt.scatter(x,y)\n",
    "plt.title(\"We can see that the Pipeline has the highest level of accuracy\")\n",
    "axes.annotate(\"knn\", xy=(knn,knn) , size=10, color='y')\n",
    "axes.annotate(\"decision tree\", xy=(decisionTree,decisionTree) , size=10, color='y')\n",
    "axes.annotate(\"dummy\", xy=(dummy,dummy) , size=10, color='r')\n",
    "axes.annotate(\"AdaBoostClassifier\", xy=(AdaBoostClassifier,AdaBoostClassifier) , size=10, color='y')\n",
    "axes.annotate(\"Pipeline\", xy=(Pipeline,Pipeline) , size=10, color='g')\n",
    "axes.annotate(\"Voting\", xy=(Voting,Voting) , size=10, color='y')\n",
    "axes.annotate(\"Stacking\", xy=(Stacking,Stacking) , size=10, color='y')\n",
    "\n",
    "plt.show(x,y)"
   ]
  },
  {
   "cell_type": "markdown",
   "metadata": {},
   "source": [
    "### We can see that the Pipeline has the highest level of accuracy."
   ]
  },
  {
   "cell_type": "markdown",
   "metadata": {},
   "source": [
    "### The highest accuracy is found in the Pipline when the number of columns is less than 10 percent of the number of columns in the complete data. We prefer a compact model in order to improve efficiency."
   ]
  },
  {
   "cell_type": "markdown",
   "metadata": {},
   "source": [
    "## Final lecture with the test:"
   ]
  },
  {
   "cell_type": "code",
   "execution_count": null,
   "metadata": {},
   "outputs": [],
   "source": [
    "pip = Pipeline([('scaler', StandardScaler()), ('svc', SVC())])\n",
    "pip.fit(X_FTrain, y_train)\n",
    "pip_predict = pip.predict(X_Test)\n",
    "pip_accuracy = accuracy_score(Y_Test, pip_predict)*100\n",
    "print (\"Pipeline accuracy: \" + str(pip_accuracy) + \"%\")"
   ]
  },
  {
   "cell_type": "code",
   "execution_count": null,
   "metadata": {},
   "outputs": [],
   "source": []
  },
  {
   "cell_type": "code",
   "execution_count": null,
   "metadata": {},
   "outputs": [],
   "source": []
  },
  {
   "cell_type": "code",
   "execution_count": null,
   "metadata": {},
   "outputs": [],
   "source": []
  }
 ],
 "metadata": {
  "kernelspec": {
   "display_name": "Python 3",
   "language": "python",
   "name": "python3"
  },
  "language_info": {
   "codemirror_mode": {
    "name": "ipython",
    "version": 3
   },
   "file_extension": ".py",
   "mimetype": "text/x-python",
   "name": "python",
   "nbconvert_exporter": "python",
   "pygments_lexer": "ipython3",
   "version": "3.8.5"
  }
 },
 "nbformat": 4,
 "nbformat_minor": 4
}
